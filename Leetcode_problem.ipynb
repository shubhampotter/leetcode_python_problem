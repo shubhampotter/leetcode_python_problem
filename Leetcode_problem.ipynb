{
 "cells": [
  {
   "cell_type": "code",
   "execution_count": 5,
   "id": "5722a2cc",
   "metadata": {},
   "outputs": [],
   "source": [
    "#1.defining  running  sum of an arary\n",
    "# Input: nums = [1,2,3,4]\n",
    "# Output: [1,3,6,10]\n",
    "# Explanation: Running sum is obtained as follows: [1, 1+2, 1+2+3, 1+2+3+4].\n",
    "def running_aray(nums):\n",
    "    N=len(nums)\n",
    "    for i in range(1,N):\n",
    "        nums[i]+=nums[i-1]\n",
    "    return nums"
   ]
  },
  {
   "cell_type": "code",
   "execution_count": 4,
   "id": "bdfb3d89",
   "metadata": {},
   "outputs": [
    {
     "name": "stdout",
     "output_type": "stream",
     "text": [
      "2\n"
     ]
    }
   ],
   "source": [
    "# find no. of elements haivng even no.of digit\n",
    "lst=[12,345,2,6,7896]\n",
    "count=0\n",
    "for i in lst:\n",
    "    j=str(i)\n",
    "    l=len(j)\n",
    "    if l%2==0:\n",
    "        count+=1\n",
    "print(count)"
   ]
  },
  {
   "cell_type": "code",
   "execution_count": 6,
   "id": "ff9ddb91",
   "metadata": {},
   "outputs": [
    {
     "data": {
      "text/plain": [
       "[1, 3, 6, 10]"
      ]
     },
     "execution_count": 6,
     "metadata": {},
     "output_type": "execute_result"
    }
   ],
   "source": [
    "running_aray([1,2,3,4])"
   ]
  },
  {
   "cell_type": "code",
   "execution_count": 4,
   "id": "ee85c218",
   "metadata": {},
   "outputs": [
    {
     "data": {
      "text/plain": [
       "3"
      ]
     },
     "execution_count": 4,
     "metadata": {},
     "output_type": "execute_result"
    }
   ],
   "source": [
    "#2. Given an array of integers nums, calculate the pivot index of this array.\n",
    "# Input: nums = [1,7,3,6,5,6]\n",
    "# Output: 3\n",
    "# Explanation:\n",
    "# The pivot index is 3.\n",
    "# Left sum = nums[0] + nums[1] + nums[2] = 1 + 7 + 3 = 11\n",
    "# Right sum = nums[4] + nums[5] = 5 + 6 = 11\n",
    "\n",
    "def pivot_index(nums):\n",
    "    total=sum(nums)\n",
    "    left_sum=0\n",
    "    for i in range(len(nums)):\n",
    "        right_sum=total-nums[i]-left_sum\n",
    "        if left_sum==right_sum:\n",
    "            return i\n",
    "        left_sum+=nums[i]\n",
    "    return -1\n",
    "pivot_index([1,7,3,6,5,6])"
   ]
  },
  {
   "cell_type": "code",
   "execution_count": 24,
   "id": "e3123d01",
   "metadata": {},
   "outputs": [],
   "source": [
    "#3. Write a function to find the longest common prefix string amongst an array of strings.\n",
    "# If there is no common prefix, return an empty string \"\".\n",
    "# Input: strs = [\"flower\",\"flow\",\"flight\"]\n",
    "# Output: \"fl\"\n",
    "\n",
    "def longest_comm_prefix():\n",
    "    strs=eval(input(\"enter a list of string\"))\n",
    "    if len(strs)==0:\n",
    "        return \"\"\n",
    "    if len(strs)==1:\n",
    "        return strs[0]\n",
    "    pref=strs[0]\n",
    "    plen=len(pref)\n",
    "    \n",
    "    for i in strs[1:]:\n",
    "        while pref!=i[0:plen]:\n",
    "            pref=pref[0:(plen-1)]\n",
    "            plen-=1\n",
    "            \n",
    "            if plen==0:\n",
    "                return \"\"\n",
    "    return pref"
   ]
  },
  {
   "cell_type": "code",
   "execution_count": 26,
   "id": "8d37ebb9",
   "metadata": {},
   "outputs": [
    {
     "name": "stdout",
     "output_type": "stream",
     "text": [
      "enter a list of string[\"dog\",\"racecar\",\"car\"]\n"
     ]
    },
    {
     "data": {
      "text/plain": [
       "''"
      ]
     },
     "execution_count": 26,
     "metadata": {},
     "output_type": "execute_result"
    }
   ],
   "source": [
    "longest_comm_prefix()"
   ]
  },
  {
   "cell_type": "code",
   "execution_count": 8,
   "id": "dac72eed",
   "metadata": {},
   "outputs": [
    {
     "name": "stdout",
     "output_type": "stream",
     "text": [
      "False\n",
      "True\n"
     ]
    }
   ],
   "source": [
    "#4. isomorphic strings problem\n",
    "# Given two strings s and t, determine if they are isomorphic.\n",
    "# Two strings s and t are isomorphic if the characters in s can be replaced to get t.\n",
    "# All occurrences of a character must be replaced with another character while preserving the order of characters. \n",
    "# No two characters may map to the same character, but a character may map to itself.\n",
    "\n",
    "def is_isomorphic(s,t):\n",
    "    mapst,mapts={},{}\n",
    "    for c1,c2 in zip(s,t):\n",
    "        if ((c1 in mapst and mapst[c1]!=c2) or\n",
    "        (c2 in mapts and mapts[c2]!=c1)):\n",
    "            return False\n",
    "        \n",
    "        mapst[c1]=c2\n",
    "        mapts[c2]=c1\n",
    "    return True\n",
    "\n",
    "print(is_isomorphic('egg','for'))\n",
    "print(is_isomorphic('egg','foo'))"
   ]
  },
  {
   "cell_type": "code",
   "execution_count": 21,
   "id": "179073a7",
   "metadata": {},
   "outputs": [
    {
     "name": "stdout",
     "output_type": "stream",
     "text": [
      "50\n",
      "40\n",
      "30\n",
      "20\n",
      "10\n"
     ]
    }
   ],
   "source": [
    "#5.\n",
    "list1=[10,20,30,40,50]\n",
    "for i in list1[::-1]:\n",
    "    print(i)\n",
    "for i in range((len(list1)-1),-1,-1):\n",
    "    print(list1[i])"
   ]
  },
  {
   "cell_type": "code",
   "execution_count": 27,
   "id": "8ee9374a",
   "metadata": {},
   "outputs": [
    {
     "data": {
      "text/plain": [
       "True"
      ]
     },
     "execution_count": 27,
     "metadata": {},
     "output_type": "execute_result"
    }
   ],
   "source": [
    "#6.Is Subsequence string problem\n",
    "# Given two strings s and t, return true if s is a subsequence of t, or false otherwise.\n",
    "# A subsequence of a string is a new string that is formed from the original string by \n",
    "# deleting some (can be none) of the characters without disturbing the relative \n",
    "# positions of the remaining characters. (i.e., \"ace\" is a subsequence of \"abcde\" while \"aec\" is not).\n",
    "\n",
    "def is_subsequence(s,t):\n",
    "    i,j=0,0\n",
    "    while i<len(s) and j<len(t):\n",
    "        if s[i]==t[j]:\n",
    "            i+=1\n",
    "            j+=1\n",
    "        else:\n",
    "            j+=1\n",
    "    return True if i==len(s) else False\n",
    "is_subsequence('abc','asbjc')"
   ]
  },
  {
   "cell_type": "code",
   "execution_count": null,
   "id": "74ebf4c6",
   "metadata": {},
   "outputs": [],
   "source": [
    "# reverse linked linked \n",
    "def reverse_linkedlist()"
   ]
  },
  {
   "cell_type": "code",
   "execution_count": 6,
   "id": "b2eef98c",
   "metadata": {},
   "outputs": [
    {
     "data": {
      "text/plain": [
       "6"
      ]
     },
     "execution_count": 6,
     "metadata": {},
     "output_type": "execute_result"
    }
   ],
   "source": [
    "#7. 1672. Richest customer wealth\n",
    "# Input: accounts = [[1,2,3],[3,2,1]]\n",
    "# Output: 6\n",
    "# Explanation:\n",
    "# 1st customer has wealth = 1 + 2 + 3 = 6\n",
    "# 2nd customer has wealth = 3 + 2 + 1 = 6\n",
    "# Both customers are considered the richest with a wealth of 6 each, so return 6.\n",
    "\n",
    "def richest_cust(accounts):\n",
    "    max_wealth=0\n",
    "    for i in accounts:\n",
    "        total=0\n",
    "        for j in i:\n",
    "            total+=j\n",
    "            if total>max_wealth:\n",
    "                max_wealth=total\n",
    "    return max_wealth\n",
    "accounts = [[1,2,3],[3,2,1]]\n",
    "richest_cust(accounts)\n",
    "            "
   ]
  },
  {
   "cell_type": "code",
   "execution_count": 14,
   "id": "a026dc2e",
   "metadata": {},
   "outputs": [
    {
     "name": "stdout",
     "output_type": "stream",
     "text": [
      "-1\n"
     ]
    }
   ],
   "source": [
    "def binary_search(arr,target):\n",
    "    start=0\n",
    "    end=len(arr)-1\n",
    "    while (start<end):\n",
    "        middle=(start+end)//2\n",
    "        if arr[middle] > target:\n",
    "            end=middle-1\n",
    "        elif arr[middle] < target:\n",
    "            start =middle+1\n",
    "        else:\n",
    "            return middle\n",
    "    return -1\n",
    "        \n",
    "            \n",
    "        \n",
    "            \n",
    "arr=[1,3,4,6,7]\n",
    "target=5\n",
    "result=binary(arr,target)\n",
    "print(result)\n",
    "        "
   ]
  },
  {
   "cell_type": "code",
   "execution_count": null,
   "id": "b2c2659a",
   "metadata": {},
   "outputs": [],
   "source": []
  }
 ],
 "metadata": {
  "kernelspec": {
   "display_name": "Python 3 (ipykernel)",
   "language": "python",
   "name": "python3"
  },
  "language_info": {
   "codemirror_mode": {
    "name": "ipython",
    "version": 3
   },
   "file_extension": ".py",
   "mimetype": "text/x-python",
   "name": "python",
   "nbconvert_exporter": "python",
   "pygments_lexer": "ipython3",
   "version": "3.9.12"
  }
 },
 "nbformat": 4,
 "nbformat_minor": 5
}
